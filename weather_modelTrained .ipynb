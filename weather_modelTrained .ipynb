{
 "cells": [
  {
   "cell_type": "code",
   "metadata": {
    "ExecuteTime": {
     "end_time": "2024-11-25T12:15:38.791941Z",
     "start_time": "2024-11-25T12:15:38.768023Z"
    }
   },
   "source": [
    "import pandas as pd\n",
    "import numpy as np\n",
    "import matplotlib.pyplot as plt\n",
    "import seaborn as sns\n",
    "import matplotlib.pyplot as plt\n",
    "from sklearn.preprocessing import MinMaxScaler \n",
    "from sklearn.ensemble import RandomForestClassifier\n",
    "from sklearn.model_selection import train_test_split\n",
    "from sklearn.datasets import make_classification\n",
    "from sklearn.linear_model import LogisticRegression\n",
    "from sklearn.metrics import accuracy_score,precision_score,recall_score,f1_score\n",
    "from sklearn.metrics import confusion_matrix, classification_report\n",
    "from sklearn.preprocessing import StandardScaler\n",
    "from sklearn.model_selection import cross_val_score"
   ],
   "outputs": [],
   "execution_count": 89
  },
  {
   "cell_type": "markdown",
   "metadata": {},
   "source": [
    "# Machine Learning Workflow\n",
    "## 1. Feature engineering\n",
    "## 2. splitting the data\n",
    "## 3. Train the model\n",
    "## 4. assess model performance"
   ]
  },
  {
   "cell_type": "code",
   "metadata": {
    "ExecuteTime": {
     "end_time": "2024-11-25T12:15:39.183960Z",
     "start_time": "2024-11-25T12:15:39.124795Z"
    }
   },
   "source": [
    "dataset = pd.read_csv(\"C:/Users/jamal/OneDrive/Desktop/datacoach/weather.csv\")\n",
    "dataset.head()"
   ],
   "outputs": [
    {
     "data": {
      "text/plain": [
       "   Temperature   Humidity  Wind_Speed  Cloud_Cover     Pressure     Rain\n",
       "0    23.720338  89.592641    7.335604    50.501694  1032.378759     rain\n",
       "1    27.879734  46.489704    5.952484     4.990053   992.614190  no rain\n",
       "2    25.069084  83.072843    1.371992    14.855784  1007.231620  no rain\n",
       "3    23.622080  74.367758    7.050551    67.255282   982.632013     rain\n",
       "4    20.591370  96.858822    4.643921    47.676444   980.825142  no rain"
      ],
      "text/html": [
       "<div>\n",
       "<style scoped>\n",
       "    .dataframe tbody tr th:only-of-type {\n",
       "        vertical-align: middle;\n",
       "    }\n",
       "\n",
       "    .dataframe tbody tr th {\n",
       "        vertical-align: top;\n",
       "    }\n",
       "\n",
       "    .dataframe thead th {\n",
       "        text-align: right;\n",
       "    }\n",
       "</style>\n",
       "<table border=\"1\" class=\"dataframe\">\n",
       "  <thead>\n",
       "    <tr style=\"text-align: right;\">\n",
       "      <th></th>\n",
       "      <th>Temperature</th>\n",
       "      <th>Humidity</th>\n",
       "      <th>Wind_Speed</th>\n",
       "      <th>Cloud_Cover</th>\n",
       "      <th>Pressure</th>\n",
       "      <th>Rain</th>\n",
       "    </tr>\n",
       "  </thead>\n",
       "  <tbody>\n",
       "    <tr>\n",
       "      <th>0</th>\n",
       "      <td>23.720338</td>\n",
       "      <td>89.592641</td>\n",
       "      <td>7.335604</td>\n",
       "      <td>50.501694</td>\n",
       "      <td>1032.378759</td>\n",
       "      <td>rain</td>\n",
       "    </tr>\n",
       "    <tr>\n",
       "      <th>1</th>\n",
       "      <td>27.879734</td>\n",
       "      <td>46.489704</td>\n",
       "      <td>5.952484</td>\n",
       "      <td>4.990053</td>\n",
       "      <td>992.614190</td>\n",
       "      <td>no rain</td>\n",
       "    </tr>\n",
       "    <tr>\n",
       "      <th>2</th>\n",
       "      <td>25.069084</td>\n",
       "      <td>83.072843</td>\n",
       "      <td>1.371992</td>\n",
       "      <td>14.855784</td>\n",
       "      <td>1007.231620</td>\n",
       "      <td>no rain</td>\n",
       "    </tr>\n",
       "    <tr>\n",
       "      <th>3</th>\n",
       "      <td>23.622080</td>\n",
       "      <td>74.367758</td>\n",
       "      <td>7.050551</td>\n",
       "      <td>67.255282</td>\n",
       "      <td>982.632013</td>\n",
       "      <td>rain</td>\n",
       "    </tr>\n",
       "    <tr>\n",
       "      <th>4</th>\n",
       "      <td>20.591370</td>\n",
       "      <td>96.858822</td>\n",
       "      <td>4.643921</td>\n",
       "      <td>47.676444</td>\n",
       "      <td>980.825142</td>\n",
       "      <td>no rain</td>\n",
       "    </tr>\n",
       "  </tbody>\n",
       "</table>\n",
       "</div>"
      ]
     },
     "execution_count": 90,
     "metadata": {},
     "output_type": "execute_result"
    }
   ],
   "execution_count": 90
  },
  {
   "cell_type": "code",
   "metadata": {
    "ExecuteTime": {
     "end_time": "2024-11-25T12:15:39.199115Z",
     "start_time": "2024-11-25T12:15:39.185943Z"
    }
   },
   "source": [
    "print(dataset.shape)\n",
    "print('\\nThe column names are:')\n",
    "print(dataset.columns)\n",
    "print('\\nThe data types:')\n",
    "print(dataset.dtypes)"
   ],
   "outputs": [
    {
     "name": "stdout",
     "output_type": "stream",
     "text": [
      "(2500, 6)\n",
      "\n",
      "The column names are:\n",
      "Index(['Temperature', 'Humidity', 'Wind_Speed', 'Cloud_Cover', 'Pressure',\n",
      "       'Rain'],\n",
      "      dtype='object')\n",
      "\n",
      "The data types:\n",
      "Temperature    float64\n",
      "Humidity       float64\n",
      "Wind_Speed     float64\n",
      "Cloud_Cover    float64\n",
      "Pressure       float64\n",
      "Rain            object\n",
      "dtype: object\n"
     ]
    }
   ],
   "execution_count": 91
  },
  {
   "cell_type": "code",
   "metadata": {
    "ExecuteTime": {
     "end_time": "2024-11-25T12:15:39.245754Z",
     "start_time": "2024-11-25T12:15:39.201110Z"
    }
   },
   "source": [
    "dataset.describe()\n",
    "#rain is object"
   ],
   "outputs": [
    {
     "data": {
      "text/plain": [
       "       Temperature     Humidity   Wind_Speed  Cloud_Cover     Pressure\n",
       "count  2500.000000  2500.000000  2500.000000  2500.000000  2500.000000\n",
       "mean     22.581725    64.347094     9.906255    49.658104  1014.312336\n",
       "std       7.326996    19.954739     5.780316    29.123104    20.196433\n",
       "min      10.001842    30.005071     0.009819     0.015038   980.014486\n",
       "25%      16.359398    47.339815     4.761909    23.900016   996.938630\n",
       "50%      22.536448    63.920797     9.908572    49.488284  1013.433035\n",
       "75%      28.976476    81.561021    14.948408    75.324140  1031.735067\n",
       "max      34.995214    99.997481    19.999132    99.997795  1049.985593"
      ],
      "text/html": [
       "<div>\n",
       "<style scoped>\n",
       "    .dataframe tbody tr th:only-of-type {\n",
       "        vertical-align: middle;\n",
       "    }\n",
       "\n",
       "    .dataframe tbody tr th {\n",
       "        vertical-align: top;\n",
       "    }\n",
       "\n",
       "    .dataframe thead th {\n",
       "        text-align: right;\n",
       "    }\n",
       "</style>\n",
       "<table border=\"1\" class=\"dataframe\">\n",
       "  <thead>\n",
       "    <tr style=\"text-align: right;\">\n",
       "      <th></th>\n",
       "      <th>Temperature</th>\n",
       "      <th>Humidity</th>\n",
       "      <th>Wind_Speed</th>\n",
       "      <th>Cloud_Cover</th>\n",
       "      <th>Pressure</th>\n",
       "    </tr>\n",
       "  </thead>\n",
       "  <tbody>\n",
       "    <tr>\n",
       "      <th>count</th>\n",
       "      <td>2500.000000</td>\n",
       "      <td>2500.000000</td>\n",
       "      <td>2500.000000</td>\n",
       "      <td>2500.000000</td>\n",
       "      <td>2500.000000</td>\n",
       "    </tr>\n",
       "    <tr>\n",
       "      <th>mean</th>\n",
       "      <td>22.581725</td>\n",
       "      <td>64.347094</td>\n",
       "      <td>9.906255</td>\n",
       "      <td>49.658104</td>\n",
       "      <td>1014.312336</td>\n",
       "    </tr>\n",
       "    <tr>\n",
       "      <th>std</th>\n",
       "      <td>7.326996</td>\n",
       "      <td>19.954739</td>\n",
       "      <td>5.780316</td>\n",
       "      <td>29.123104</td>\n",
       "      <td>20.196433</td>\n",
       "    </tr>\n",
       "    <tr>\n",
       "      <th>min</th>\n",
       "      <td>10.001842</td>\n",
       "      <td>30.005071</td>\n",
       "      <td>0.009819</td>\n",
       "      <td>0.015038</td>\n",
       "      <td>980.014486</td>\n",
       "    </tr>\n",
       "    <tr>\n",
       "      <th>25%</th>\n",
       "      <td>16.359398</td>\n",
       "      <td>47.339815</td>\n",
       "      <td>4.761909</td>\n",
       "      <td>23.900016</td>\n",
       "      <td>996.938630</td>\n",
       "    </tr>\n",
       "    <tr>\n",
       "      <th>50%</th>\n",
       "      <td>22.536448</td>\n",
       "      <td>63.920797</td>\n",
       "      <td>9.908572</td>\n",
       "      <td>49.488284</td>\n",
       "      <td>1013.433035</td>\n",
       "    </tr>\n",
       "    <tr>\n",
       "      <th>75%</th>\n",
       "      <td>28.976476</td>\n",
       "      <td>81.561021</td>\n",
       "      <td>14.948408</td>\n",
       "      <td>75.324140</td>\n",
       "      <td>1031.735067</td>\n",
       "    </tr>\n",
       "    <tr>\n",
       "      <th>max</th>\n",
       "      <td>34.995214</td>\n",
       "      <td>99.997481</td>\n",
       "      <td>19.999132</td>\n",
       "      <td>99.997795</td>\n",
       "      <td>1049.985593</td>\n",
       "    </tr>\n",
       "  </tbody>\n",
       "</table>\n",
       "</div>"
      ]
     },
     "execution_count": 92,
     "metadata": {},
     "output_type": "execute_result"
    }
   ],
   "execution_count": 92
  },
  {
   "cell_type": "code",
   "metadata": {
    "ExecuteTime": {
     "end_time": "2024-11-25T12:15:39.291324Z",
     "start_time": "2024-11-25T12:15:39.250737Z"
    }
   },
   "source": [
    "rain_data = dataset[dataset['Rain'] == 'rain']\n",
    "no_rain_data = dataset[dataset['Rain'] == 'no rain']\n",
    "print(rain_data)\n",
    "print(no_rain_data)\n"
   ],
   "outputs": [
    {
     "name": "stdout",
     "output_type": "stream",
     "text": [
      "      Temperature   Humidity  Wind_Speed  Cloud_Cover     Pressure  Rain\n",
      "0       23.720338  89.592641    7.335604    50.501694  1032.378759  rain\n",
      "3       23.622080  74.367758    7.050551    67.255282   982.632013  rain\n",
      "9       19.586038  82.978293    5.760537    98.014450  1036.503457  rain\n",
      "11      23.222373  76.877943   15.825673    72.869790   980.108934  rain\n",
      "16      10.505460  75.456091   14.797331    99.142331  1011.577194  rain\n",
      "...           ...        ...         ...          ...          ...   ...\n",
      "2453    17.827472  82.169130    0.469828    83.246856  1030.180411  rain\n",
      "2458    11.970059  84.451618    6.833904    97.413056  1025.504426  rain\n",
      "2473    23.367704  93.753660    7.061520    78.769767  1042.865020  rain\n",
      "2479    23.963077  86.028469    3.612575    84.842039   997.953417  rain\n",
      "2481    23.976170  77.144515   16.145567    84.636004  1010.286784  rain\n",
      "\n",
      "[314 rows x 6 columns]\n",
      "      Temperature   Humidity  Wind_Speed  Cloud_Cover     Pressure     Rain\n",
      "1       27.879734  46.489704    5.952484     4.990053   992.614190  no rain\n",
      "2       25.069084  83.072843    1.371992    14.855784  1007.231620  no rain\n",
      "4       20.591370  96.858822    4.643921    47.676444   980.825142  no rain\n",
      "5       26.147353  48.217260   15.258547    59.766279  1049.738751  no rain\n",
      "6       20.939680  40.799444    2.232566    45.827508  1014.173766  no rain\n",
      "...           ...        ...         ...          ...          ...      ...\n",
      "2495    21.791602  45.270902   11.807192    55.044682  1017.686181  no rain\n",
      "2496    27.558479  46.481744   10.884915    39.715133  1008.590961  no rain\n",
      "2497    28.108274  43.817178    2.897128    75.842952   999.119187  no rain\n",
      "2498    14.789275  57.908105    2.374717     2.378743  1046.501875  no rain\n",
      "2499    26.554356  97.101517   18.563084    81.357508  1001.729176  no rain\n",
      "\n",
      "[2186 rows x 6 columns]\n"
     ]
    }
   ],
   "execution_count": 93
  },
  {
   "cell_type": "code",
   "metadata": {
    "scrolled": true,
    "ExecuteTime": {
     "end_time": "2024-11-25T12:15:39.337306Z",
     "start_time": "2024-11-25T12:15:39.293296Z"
    }
   },
   "source": [
    "no_rain_data.describe()"
   ],
   "outputs": [
    {
     "data": {
      "text/plain": [
       "       Temperature     Humidity   Wind_Speed  Cloud_Cover     Pressure\n",
       "count  2186.000000  2186.000000  2186.000000  2186.000000  2186.000000\n",
       "mean     23.319913    61.455151     9.909297    46.058162  1014.249021\n",
       "std       7.376748    19.444223     5.760907    28.917962    20.137445\n",
       "min      10.001842    30.005071     0.009819     0.015038   980.014486\n",
       "25%      16.920559    45.170085     4.782485    20.260167   996.797572\n",
       "50%      23.918775    59.481853     9.926077    44.206476  1013.433035\n",
       "75%      29.796251    77.069360    14.945992    70.984932  1031.589224\n",
       "max      34.995214    99.997481    19.999132    99.997795  1049.985593"
      ],
      "text/html": [
       "<div>\n",
       "<style scoped>\n",
       "    .dataframe tbody tr th:only-of-type {\n",
       "        vertical-align: middle;\n",
       "    }\n",
       "\n",
       "    .dataframe tbody tr th {\n",
       "        vertical-align: top;\n",
       "    }\n",
       "\n",
       "    .dataframe thead th {\n",
       "        text-align: right;\n",
       "    }\n",
       "</style>\n",
       "<table border=\"1\" class=\"dataframe\">\n",
       "  <thead>\n",
       "    <tr style=\"text-align: right;\">\n",
       "      <th></th>\n",
       "      <th>Temperature</th>\n",
       "      <th>Humidity</th>\n",
       "      <th>Wind_Speed</th>\n",
       "      <th>Cloud_Cover</th>\n",
       "      <th>Pressure</th>\n",
       "    </tr>\n",
       "  </thead>\n",
       "  <tbody>\n",
       "    <tr>\n",
       "      <th>count</th>\n",
       "      <td>2186.000000</td>\n",
       "      <td>2186.000000</td>\n",
       "      <td>2186.000000</td>\n",
       "      <td>2186.000000</td>\n",
       "      <td>2186.000000</td>\n",
       "    </tr>\n",
       "    <tr>\n",
       "      <th>mean</th>\n",
       "      <td>23.319913</td>\n",
       "      <td>61.455151</td>\n",
       "      <td>9.909297</td>\n",
       "      <td>46.058162</td>\n",
       "      <td>1014.249021</td>\n",
       "    </tr>\n",
       "    <tr>\n",
       "      <th>std</th>\n",
       "      <td>7.376748</td>\n",
       "      <td>19.444223</td>\n",
       "      <td>5.760907</td>\n",
       "      <td>28.917962</td>\n",
       "      <td>20.137445</td>\n",
       "    </tr>\n",
       "    <tr>\n",
       "      <th>min</th>\n",
       "      <td>10.001842</td>\n",
       "      <td>30.005071</td>\n",
       "      <td>0.009819</td>\n",
       "      <td>0.015038</td>\n",
       "      <td>980.014486</td>\n",
       "    </tr>\n",
       "    <tr>\n",
       "      <th>25%</th>\n",
       "      <td>16.920559</td>\n",
       "      <td>45.170085</td>\n",
       "      <td>4.782485</td>\n",
       "      <td>20.260167</td>\n",
       "      <td>996.797572</td>\n",
       "    </tr>\n",
       "    <tr>\n",
       "      <th>50%</th>\n",
       "      <td>23.918775</td>\n",
       "      <td>59.481853</td>\n",
       "      <td>9.926077</td>\n",
       "      <td>44.206476</td>\n",
       "      <td>1013.433035</td>\n",
       "    </tr>\n",
       "    <tr>\n",
       "      <th>75%</th>\n",
       "      <td>29.796251</td>\n",
       "      <td>77.069360</td>\n",
       "      <td>14.945992</td>\n",
       "      <td>70.984932</td>\n",
       "      <td>1031.589224</td>\n",
       "    </tr>\n",
       "    <tr>\n",
       "      <th>max</th>\n",
       "      <td>34.995214</td>\n",
       "      <td>99.997481</td>\n",
       "      <td>19.999132</td>\n",
       "      <td>99.997795</td>\n",
       "      <td>1049.985593</td>\n",
       "    </tr>\n",
       "  </tbody>\n",
       "</table>\n",
       "</div>"
      ]
     },
     "execution_count": 94,
     "metadata": {},
     "output_type": "execute_result"
    }
   ],
   "execution_count": 94
  },
  {
   "cell_type": "code",
   "metadata": {
    "ExecuteTime": {
     "end_time": "2024-11-25T12:15:39.368725Z",
     "start_time": "2024-11-25T12:15:39.339308Z"
    }
   },
   "source": [
    "rain_data.describe()"
   ],
   "outputs": [
    {
     "data": {
      "text/plain": [
       "       Temperature    Humidity  Wind_Speed  Cloud_Cover     Pressure\n",
       "count   314.000000  314.000000  314.000000   314.000000   314.000000\n",
       "mean     17.442619   84.480176    9.885073    74.720123  1014.753118\n",
       "std       4.295249    8.650383    5.923008    14.606900    20.629713\n",
       "min      10.016605   70.094641    0.033690    50.073046   980.108934\n",
       "25%      13.425949   76.556641    4.667279    61.537020   997.666829\n",
       "50%      17.608339   84.276680    9.804165    74.517993  1013.266195\n",
       "75%      21.046427   92.438051   14.941082    87.921606  1032.345828\n",
       "max      24.822007   99.995180   19.989565    99.672015  1049.907858"
      ],
      "text/html": [
       "<div>\n",
       "<style scoped>\n",
       "    .dataframe tbody tr th:only-of-type {\n",
       "        vertical-align: middle;\n",
       "    }\n",
       "\n",
       "    .dataframe tbody tr th {\n",
       "        vertical-align: top;\n",
       "    }\n",
       "\n",
       "    .dataframe thead th {\n",
       "        text-align: right;\n",
       "    }\n",
       "</style>\n",
       "<table border=\"1\" class=\"dataframe\">\n",
       "  <thead>\n",
       "    <tr style=\"text-align: right;\">\n",
       "      <th></th>\n",
       "      <th>Temperature</th>\n",
       "      <th>Humidity</th>\n",
       "      <th>Wind_Speed</th>\n",
       "      <th>Cloud_Cover</th>\n",
       "      <th>Pressure</th>\n",
       "    </tr>\n",
       "  </thead>\n",
       "  <tbody>\n",
       "    <tr>\n",
       "      <th>count</th>\n",
       "      <td>314.000000</td>\n",
       "      <td>314.000000</td>\n",
       "      <td>314.000000</td>\n",
       "      <td>314.000000</td>\n",
       "      <td>314.000000</td>\n",
       "    </tr>\n",
       "    <tr>\n",
       "      <th>mean</th>\n",
       "      <td>17.442619</td>\n",
       "      <td>84.480176</td>\n",
       "      <td>9.885073</td>\n",
       "      <td>74.720123</td>\n",
       "      <td>1014.753118</td>\n",
       "    </tr>\n",
       "    <tr>\n",
       "      <th>std</th>\n",
       "      <td>4.295249</td>\n",
       "      <td>8.650383</td>\n",
       "      <td>5.923008</td>\n",
       "      <td>14.606900</td>\n",
       "      <td>20.629713</td>\n",
       "    </tr>\n",
       "    <tr>\n",
       "      <th>min</th>\n",
       "      <td>10.016605</td>\n",
       "      <td>70.094641</td>\n",
       "      <td>0.033690</td>\n",
       "      <td>50.073046</td>\n",
       "      <td>980.108934</td>\n",
       "    </tr>\n",
       "    <tr>\n",
       "      <th>25%</th>\n",
       "      <td>13.425949</td>\n",
       "      <td>76.556641</td>\n",
       "      <td>4.667279</td>\n",
       "      <td>61.537020</td>\n",
       "      <td>997.666829</td>\n",
       "    </tr>\n",
       "    <tr>\n",
       "      <th>50%</th>\n",
       "      <td>17.608339</td>\n",
       "      <td>84.276680</td>\n",
       "      <td>9.804165</td>\n",
       "      <td>74.517993</td>\n",
       "      <td>1013.266195</td>\n",
       "    </tr>\n",
       "    <tr>\n",
       "      <th>75%</th>\n",
       "      <td>21.046427</td>\n",
       "      <td>92.438051</td>\n",
       "      <td>14.941082</td>\n",
       "      <td>87.921606</td>\n",
       "      <td>1032.345828</td>\n",
       "    </tr>\n",
       "    <tr>\n",
       "      <th>max</th>\n",
       "      <td>24.822007</td>\n",
       "      <td>99.995180</td>\n",
       "      <td>19.989565</td>\n",
       "      <td>99.672015</td>\n",
       "      <td>1049.907858</td>\n",
       "    </tr>\n",
       "  </tbody>\n",
       "</table>\n",
       "</div>"
      ]
     },
     "execution_count": 95,
     "metadata": {},
     "output_type": "execute_result"
    }
   ],
   "execution_count": 95
  },
  {
   "cell_type": "code",
   "metadata": {
    "ExecuteTime": {
     "end_time": "2024-11-27T15:38:25.745273Z",
     "start_time": "2024-11-27T15:38:25.474964Z"
    }
   },
   "source": [
    "plt.figure(figsize=(10, 6))\n",
    "sns.boxplot(x='Rain', y='Cloud_Cover', data=dataset, palette=\"Set2\")\n",
    "plt.xlabel('Condition (Rain / No Rain)')\n",
    "plt.ylabel('Cloud Cover')\n",
    "plt.show()"
   ],
   "outputs": [
    {
     "ename": "NameError",
     "evalue": "name 'plt' is not defined",
     "output_type": "error",
     "traceback": [
      "\u001B[1;31m---------------------------------------------------------------------------\u001B[0m",
      "\u001B[1;31mNameError\u001B[0m                                 Traceback (most recent call last)",
      "\u001B[1;32m<ipython-input-1-b7e7baa6e730>\u001B[0m in \u001B[0;36m<module>\u001B[1;34m\u001B[0m\n\u001B[1;32m----> 1\u001B[1;33m \u001B[0mplt\u001B[0m\u001B[1;33m.\u001B[0m\u001B[0mfigure\u001B[0m\u001B[1;33m(\u001B[0m\u001B[0mfigsize\u001B[0m\u001B[1;33m=\u001B[0m\u001B[1;33m(\u001B[0m\u001B[1;36m10\u001B[0m\u001B[1;33m,\u001B[0m \u001B[1;36m6\u001B[0m\u001B[1;33m)\u001B[0m\u001B[1;33m)\u001B[0m\u001B[1;33m\u001B[0m\u001B[1;33m\u001B[0m\u001B[0m\n\u001B[0m\u001B[0;32m      2\u001B[0m \u001B[0msns\u001B[0m\u001B[1;33m.\u001B[0m\u001B[0mboxplot\u001B[0m\u001B[1;33m(\u001B[0m\u001B[0mx\u001B[0m\u001B[1;33m=\u001B[0m\u001B[1;34m'Rain'\u001B[0m\u001B[1;33m,\u001B[0m \u001B[0my\u001B[0m\u001B[1;33m=\u001B[0m\u001B[1;34m'Cloud_Cover'\u001B[0m\u001B[1;33m,\u001B[0m \u001B[0mdata\u001B[0m\u001B[1;33m=\u001B[0m\u001B[0mdataset\u001B[0m\u001B[1;33m,\u001B[0m \u001B[0mpalette\u001B[0m\u001B[1;33m=\u001B[0m\u001B[1;34m\"Set2\"\u001B[0m\u001B[1;33m)\u001B[0m\u001B[1;33m\u001B[0m\u001B[1;33m\u001B[0m\u001B[0m\n\u001B[0;32m      3\u001B[0m \u001B[0mplt\u001B[0m\u001B[1;33m.\u001B[0m\u001B[0mxlabel\u001B[0m\u001B[1;33m(\u001B[0m\u001B[1;34m'Condition (Rain / No Rain)'\u001B[0m\u001B[1;33m)\u001B[0m\u001B[1;33m\u001B[0m\u001B[1;33m\u001B[0m\u001B[0m\n\u001B[0;32m      4\u001B[0m \u001B[0mplt\u001B[0m\u001B[1;33m.\u001B[0m\u001B[0mylabel\u001B[0m\u001B[1;33m(\u001B[0m\u001B[1;34m'Cloud Cover'\u001B[0m\u001B[1;33m)\u001B[0m\u001B[1;33m\u001B[0m\u001B[1;33m\u001B[0m\u001B[0m\n\u001B[0;32m      5\u001B[0m \u001B[0mplt\u001B[0m\u001B[1;33m.\u001B[0m\u001B[0mshow\u001B[0m\u001B[1;33m(\u001B[0m\u001B[1;33m)\u001B[0m\u001B[1;33m\u001B[0m\u001B[1;33m\u001B[0m\u001B[0m\n",
      "\u001B[1;31mNameError\u001B[0m: name 'plt' is not defined"
     ]
    }
   ],
   "execution_count": 1
  },
  {
   "cell_type": "code",
   "metadata": {
    "ExecuteTime": {
     "end_time": "2024-11-25T12:15:39.994486Z",
     "start_time": "2024-11-25T12:15:39.606290Z"
    }
   },
   "source": [
    "correlation_matrix = dataset.corr()\n",
    "plt.figure(figsize=(10, 8))\n",
    "sns.heatmap(correlation_matrix, annot=True, cmap=\"coolwarm\", vmin=-1, vmax=1)\n",
    "plt.title('Correlation Heatmap of Weather Variables')\n",
    "plt.show()\n"
   ],
   "outputs": [
    {
     "data": {
      "text/plain": [
       "<Figure size 720x576 with 2 Axes>"
      ],
      "image/png": "[encoded data removed]"
     },
     "metadata": {},
     "output_type": "display_data"
    }
   ],
   "execution_count": 97
  },
  {
   "cell_type": "code",
   "metadata": {
    "ExecuteTime": {
     "end_time": "2024-11-25T12:15:40.024375Z",
     "start_time": "2024-11-25T12:15:39.996478Z"
    }
   },
   "source": [
    "#1 for rain, 0 for no rain\n",
    "dataset['Rain_Numeric'] = dataset['Rain'].apply(lambda x: 1 if x == 'rain' else 0)\n",
    "\n",
    "# Calculate correlations between 'Rain_Numeric' and other numerical columns\n",
    "rain_correlations = dataset.corr()['Rain_Numeric'].drop('Rain_Numeric')\n",
    "\n",
    "# Display the result\n",
    "print(rain_correlations)\n"
   ],
   "outputs": [
    {
     "name": "stdout",
     "output_type": "stream",
     "text": [
      "Temperature   -0.265882\n",
      "Humidity       0.382464\n",
      "Wind_Speed    -0.001389\n",
      "Cloud_Cover    0.326216\n",
      "Pressure       0.008273\n",
      "Name: Rain_Numeric, dtype: float64\n"
     ]
    }
   ],
   "execution_count": 98
  },
  {
   "cell_type": "code",
   "metadata": {
    "ExecuteTime": {
     "end_time": "2024-11-25T12:15:40.197397Z",
     "start_time": "2024-11-25T12:15:40.183501Z"
    }
   },
   "source": [
    "#dropping pressure and wind speed\n",
    "dataset = dataset.drop(columns=['Wind_Speed'])"
   ],
   "outputs": [],
   "execution_count": 99
  },
  {
   "cell_type": "code",
   "metadata": {
    "ExecuteTime": {
     "end_time": "2024-11-25T12:15:40.258092Z",
     "start_time": "2024-11-25T12:15:40.246803Z"
    }
   },
   "source": [
    "dataset.head()"
   ],
   "outputs": [
    {
     "data": {
      "text/plain": [
       "   Temperature   Humidity  Cloud_Cover     Pressure     Rain  Rain_Numeric\n",
       "0    23.720338  89.592641    50.501694  1032.378759     rain             1\n",
       "1    27.879734  46.489704     4.990053   992.614190  no rain             0\n",
       "2    25.069084  83.072843    14.855784  1007.231620  no rain             0\n",
       "3    23.622080  74.367758    67.255282   982.632013     rain             1\n",
       "4    20.591370  96.858822    47.676444   980.825142  no rain             0"
      ],
      "text/html": [
       "<div>\n",
       "<style scoped>\n",
       "    .dataframe tbody tr th:only-of-type {\n",
       "        vertical-align: middle;\n",
       "    }\n",
       "\n",
       "    .dataframe tbody tr th {\n",
       "        vertical-align: top;\n",
       "    }\n",
       "\n",
       "    .dataframe thead th {\n",
       "        text-align: right;\n",
       "    }\n",
       "</style>\n",
       "<table border=\"1\" class=\"dataframe\">\n",
       "  <thead>\n",
       "    <tr style=\"text-align: right;\">\n",
       "      <th></th>\n",
       "      <th>Temperature</th>\n",
       "      <th>Humidity</th>\n",
       "      <th>Cloud_Cover</th>\n",
       "      <th>Pressure</th>\n",
       "      <th>Rain</th>\n",
       "      <th>Rain_Numeric</th>\n",
       "    </tr>\n",
       "  </thead>\n",
       "  <tbody>\n",
       "    <tr>\n",
       "      <th>0</th>\n",
       "      <td>23.720338</td>\n",
       "      <td>89.592641</td>\n",
       "      <td>50.501694</td>\n",
       "      <td>1032.378759</td>\n",
       "      <td>rain</td>\n",
       "      <td>1</td>\n",
       "    </tr>\n",
       "    <tr>\n",
       "      <th>1</th>\n",
       "      <td>27.879734</td>\n",
       "      <td>46.489704</td>\n",
       "      <td>4.990053</td>\n",
       "      <td>992.614190</td>\n",
       "      <td>no rain</td>\n",
       "      <td>0</td>\n",
       "    </tr>\n",
       "    <tr>\n",
       "      <th>2</th>\n",
       "      <td>25.069084</td>\n",
       "      <td>83.072843</td>\n",
       "      <td>14.855784</td>\n",
       "      <td>1007.231620</td>\n",
       "      <td>no rain</td>\n",
       "      <td>0</td>\n",
       "    </tr>\n",
       "    <tr>\n",
       "      <th>3</th>\n",
       "      <td>23.622080</td>\n",
       "      <td>74.367758</td>\n",
       "      <td>67.255282</td>\n",
       "      <td>982.632013</td>\n",
       "      <td>rain</td>\n",
       "      <td>1</td>\n",
       "    </tr>\n",
       "    <tr>\n",
       "      <th>4</th>\n",
       "      <td>20.591370</td>\n",
       "      <td>96.858822</td>\n",
       "      <td>47.676444</td>\n",
       "      <td>980.825142</td>\n",
       "      <td>no rain</td>\n",
       "      <td>0</td>\n",
       "    </tr>\n",
       "  </tbody>\n",
       "</table>\n",
       "</div>"
      ]
     },
     "execution_count": 100,
     "metadata": {},
     "output_type": "execute_result"
    }
   ],
   "execution_count": 100
  },
  {
   "cell_type": "code",
   "metadata": {
    "ExecuteTime": {
     "end_time": "2024-11-25T12:15:40.489923Z",
     "start_time": "2024-11-25T12:15:40.470987Z"
    }
   },
   "source": [
    "dataset = dataset.drop(columns=['Rain'])"
   ],
   "outputs": [],
   "execution_count": 101
  },
  {
   "cell_type": "code",
   "metadata": {
    "ExecuteTime": {
     "end_time": "2024-11-25T12:15:40.536956Z",
     "start_time": "2024-11-25T12:15:40.519823Z"
    }
   },
   "source": [
    "dataset.head()"
   ],
   "outputs": [
    {
     "data": {
      "text/plain": [
       "   Temperature   Humidity  Cloud_Cover     Pressure  Rain_Numeric\n",
       "0    23.720338  89.592641    50.501694  1032.378759             1\n",
       "1    27.879734  46.489704     4.990053   992.614190             0\n",
       "2    25.069084  83.072843    14.855784  1007.231620             0\n",
       "3    23.622080  74.367758    67.255282   982.632013             1\n",
       "4    20.591370  96.858822    47.676444   980.825142             0"
      ],
      "text/html": [
       "<div>\n",
       "<style scoped>\n",
       "    .dataframe tbody tr th:only-of-type {\n",
       "        vertical-align: middle;\n",
       "    }\n",
       "\n",
       "    .dataframe tbody tr th {\n",
       "        vertical-align: top;\n",
       "    }\n",
       "\n",
       "    .dataframe thead th {\n",
       "        text-align: right;\n",
       "    }\n",
       "</style>\n",
       "<table border=\"1\" class=\"dataframe\">\n",
       "  <thead>\n",
       "    <tr style=\"text-align: right;\">\n",
       "      <th></th>\n",
       "      <th>Temperature</th>\n",
       "      <th>Humidity</th>\n",
       "      <th>Cloud_Cover</th>\n",
       "      <th>Pressure</th>\n",
       "      <th>Rain_Numeric</th>\n",
       "    </tr>\n",
       "  </thead>\n",
       "  <tbody>\n",
       "    <tr>\n",
       "      <th>0</th>\n",
       "      <td>23.720338</td>\n",
       "      <td>89.592641</td>\n",
       "      <td>50.501694</td>\n",
       "      <td>1032.378759</td>\n",
       "      <td>1</td>\n",
       "    </tr>\n",
       "    <tr>\n",
       "      <th>1</th>\n",
       "      <td>27.879734</td>\n",
       "      <td>46.489704</td>\n",
       "      <td>4.990053</td>\n",
       "      <td>992.614190</td>\n",
       "      <td>0</td>\n",
       "    </tr>\n",
       "    <tr>\n",
       "      <th>2</th>\n",
       "      <td>25.069084</td>\n",
       "      <td>83.072843</td>\n",
       "      <td>14.855784</td>\n",
       "      <td>1007.231620</td>\n",
       "      <td>0</td>\n",
       "    </tr>\n",
       "    <tr>\n",
       "      <th>3</th>\n",
       "      <td>23.622080</td>\n",
       "      <td>74.367758</td>\n",
       "      <td>67.255282</td>\n",
       "      <td>982.632013</td>\n",
       "      <td>1</td>\n",
       "    </tr>\n",
       "    <tr>\n",
       "      <th>4</th>\n",
       "      <td>20.591370</td>\n",
       "      <td>96.858822</td>\n",
       "      <td>47.676444</td>\n",
       "      <td>980.825142</td>\n",
       "      <td>0</td>\n",
       "    </tr>\n",
       "  </tbody>\n",
       "</table>\n",
       "</div>"
      ]
     },
     "execution_count": 102,
     "metadata": {},
     "output_type": "execute_result"
    }
   ],
   "execution_count": 102
  },
  {
   "cell_type": "code",
   "metadata": {
    "ExecuteTime": {
     "end_time": "2024-11-25T12:15:40.599322Z",
     "start_time": "2024-11-25T12:15:40.587295Z"
    }
   },
   "source": [
    "#scaling the data to fit between 0 and 1 so no number cant effect the data majorly over the other \n",
    "scaler = MinMaxScaler()\n",
    "normalized_data = scaler.fit_transform(dataset)"
   ],
   "outputs": [],
   "execution_count": 103
  },
  {
   "cell_type": "code",
   "metadata": {
    "ExecuteTime": {
     "end_time": "2024-11-25T12:15:40.754077Z",
     "start_time": "2024-11-25T12:15:40.741891Z"
    }
   },
   "source": [
    "dataset_scaled = pd.DataFrame(scaler.fit_transform(dataset), columns=dataset.columns)"
   ],
   "outputs": [],
   "execution_count": 104
  },
  {
   "cell_type": "code",
   "metadata": {
    "scrolled": true,
    "ExecuteTime": {
     "end_time": "2024-11-25T12:15:40.923427Z",
     "start_time": "2024-11-25T12:15:40.906628Z"
    }
   },
   "source": [
    "dataset_scaled.head()"
   ],
   "outputs": [
    {
     "data": {
      "text/plain": [
       "   Temperature  Humidity  Cloud_Cover  Pressure  Rain_Numeric\n",
       "0     0.548885  0.851343     0.504954  0.748370           1.0\n",
       "1     0.715305  0.235520     0.049759  0.180070           0.0\n",
       "2     0.602850  0.758193     0.148433  0.388977           0.0\n",
       "3     0.544954  0.633821     0.672518  0.037409           1.0\n",
       "4     0.423693  0.955157     0.476696  0.011586           0.0"
      ],
      "text/html": [
       "<div>\n",
       "<style scoped>\n",
       "    .dataframe tbody tr th:only-of-type {\n",
       "        vertical-align: middle;\n",
       "    }\n",
       "\n",
       "    .dataframe tbody tr th {\n",
       "        vertical-align: top;\n",
       "    }\n",
       "\n",
       "    .dataframe thead th {\n",
       "        text-align: right;\n",
       "    }\n",
       "</style>\n",
       "<table border=\"1\" class=\"dataframe\">\n",
       "  <thead>\n",
       "    <tr style=\"text-align: right;\">\n",
       "      <th></th>\n",
       "      <th>Temperature</th>\n",
       "      <th>Humidity</th>\n",
       "      <th>Cloud_Cover</th>\n",
       "      <th>Pressure</th>\n",
       "      <th>Rain_Numeric</th>\n",
       "    </tr>\n",
       "  </thead>\n",
       "  <tbody>\n",
       "    <tr>\n",
       "      <th>0</th>\n",
       "      <td>0.548885</td>\n",
       "      <td>0.851343</td>\n",
       "      <td>0.504954</td>\n",
       "      <td>0.748370</td>\n",
       "      <td>1.0</td>\n",
       "    </tr>\n",
       "    <tr>\n",
       "      <th>1</th>\n",
       "      <td>0.715305</td>\n",
       "      <td>0.235520</td>\n",
       "      <td>0.049759</td>\n",
       "      <td>0.180070</td>\n",
       "      <td>0.0</td>\n",
       "    </tr>\n",
       "    <tr>\n",
       "      <th>2</th>\n",
       "      <td>0.602850</td>\n",
       "      <td>0.758193</td>\n",
       "      <td>0.148433</td>\n",
       "      <td>0.388977</td>\n",
       "      <td>0.0</td>\n",
       "    </tr>\n",
       "    <tr>\n",
       "      <th>3</th>\n",
       "      <td>0.544954</td>\n",
       "      <td>0.633821</td>\n",
       "      <td>0.672518</td>\n",
       "      <td>0.037409</td>\n",
       "      <td>1.0</td>\n",
       "    </tr>\n",
       "    <tr>\n",
       "      <th>4</th>\n",
       "      <td>0.423693</td>\n",
       "      <td>0.955157</td>\n",
       "      <td>0.476696</td>\n",
       "      <td>0.011586</td>\n",
       "      <td>0.0</td>\n",
       "    </tr>\n",
       "  </tbody>\n",
       "</table>\n",
       "</div>"
      ]
     },
     "execution_count": 105,
     "metadata": {},
     "output_type": "execute_result"
    }
   ],
   "execution_count": 105
  },
  {
   "cell_type": "code",
   "metadata": {
    "ExecuteTime": {
     "end_time": "2024-11-25T12:15:41.064078Z",
     "start_time": "2024-11-25T12:15:41.051941Z"
    }
   },
   "source": [
    "Rain_numeric_test = dataset_scaled[['Rain_Numeric']]"
   ],
   "outputs": [],
   "execution_count": 106
  },
  {
   "cell_type": "code",
   "metadata": {
    "scrolled": true,
    "ExecuteTime": {
     "end_time": "2024-11-25T12:15:41.126647Z",
     "start_time": "2024-11-25T12:15:41.110701Z"
    }
   },
   "source": [
    "Rain_numeric_test.head()"
   ],
   "outputs": [
    {
     "data": {
      "text/plain": [
       "   Rain_Numeric\n",
       "0           1.0\n",
       "1           0.0\n",
       "2           0.0\n",
       "3           1.0\n",
       "4           0.0"
      ],
      "text/html": [
       "<div>\n",
       "<style scoped>\n",
       "    .dataframe tbody tr th:only-of-type {\n",
       "        vertical-align: middle;\n",
       "    }\n",
       "\n",
       "    .dataframe tbody tr th {\n",
       "        vertical-align: top;\n",
       "    }\n",
       "\n",
       "    .dataframe thead th {\n",
       "        text-align: right;\n",
       "    }\n",
       "</style>\n",
       "<table border=\"1\" class=\"dataframe\">\n",
       "  <thead>\n",
       "    <tr style=\"text-align: right;\">\n",
       "      <th></th>\n",
       "      <th>Rain_Numeric</th>\n",
       "    </tr>\n",
       "  </thead>\n",
       "  <tbody>\n",
       "    <tr>\n",
       "      <th>0</th>\n",
       "      <td>1.0</td>\n",
       "    </tr>\n",
       "    <tr>\n",
       "      <th>1</th>\n",
       "      <td>0.0</td>\n",
       "    </tr>\n",
       "    <tr>\n",
       "      <th>2</th>\n",
       "      <td>0.0</td>\n",
       "    </tr>\n",
       "    <tr>\n",
       "      <th>3</th>\n",
       "      <td>1.0</td>\n",
       "    </tr>\n",
       "    <tr>\n",
       "      <th>4</th>\n",
       "      <td>0.0</td>\n",
       "    </tr>\n",
       "  </tbody>\n",
       "</table>\n",
       "</div>"
      ]
     },
     "execution_count": 107,
     "metadata": {},
     "output_type": "execute_result"
    }
   ],
   "execution_count": 107
  },
  {
   "cell_type": "code",
   "metadata": {
    "ExecuteTime": {
     "end_time": "2024-11-25T12:15:41.220429Z",
     "start_time": "2024-11-25T12:15:41.203470Z"
    }
   },
   "source": [
    "Rain_numeric_test.describe()"
   ],
   "outputs": [
    {
     "data": {
      "text/plain": [
       "       Rain_Numeric\n",
       "count   2500.000000\n",
       "mean       0.125600\n",
       "std        0.331464\n",
       "min        0.000000\n",
       "25%        0.000000\n",
       "50%        0.000000\n",
       "75%        0.000000\n",
       "max        1.000000"
      ],
      "text/html": [
       "<div>\n",
       "<style scoped>\n",
       "    .dataframe tbody tr th:only-of-type {\n",
       "        vertical-align: middle;\n",
       "    }\n",
       "\n",
       "    .dataframe tbody tr th {\n",
       "        vertical-align: top;\n",
       "    }\n",
       "\n",
       "    .dataframe thead th {\n",
       "        text-align: right;\n",
       "    }\n",
       "</style>\n",
       "<table border=\"1\" class=\"dataframe\">\n",
       "  <thead>\n",
       "    <tr style=\"text-align: right;\">\n",
       "      <th></th>\n",
       "      <th>Rain_Numeric</th>\n",
       "    </tr>\n",
       "  </thead>\n",
       "  <tbody>\n",
       "    <tr>\n",
       "      <th>count</th>\n",
       "      <td>2500.000000</td>\n",
       "    </tr>\n",
       "    <tr>\n",
       "      <th>mean</th>\n",
       "      <td>0.125600</td>\n",
       "    </tr>\n",
       "    <tr>\n",
       "      <th>std</th>\n",
       "      <td>0.331464</td>\n",
       "    </tr>\n",
       "    <tr>\n",
       "      <th>min</th>\n",
       "      <td>0.000000</td>\n",
       "    </tr>\n",
       "    <tr>\n",
       "      <th>25%</th>\n",
       "      <td>0.000000</td>\n",
       "    </tr>\n",
       "    <tr>\n",
       "      <th>50%</th>\n",
       "      <td>0.000000</td>\n",
       "    </tr>\n",
       "    <tr>\n",
       "      <th>75%</th>\n",
       "      <td>0.000000</td>\n",
       "    </tr>\n",
       "    <tr>\n",
       "      <th>max</th>\n",
       "      <td>1.000000</td>\n",
       "    </tr>\n",
       "  </tbody>\n",
       "</table>\n",
       "</div>"
      ]
     },
     "execution_count": 108,
     "metadata": {},
     "output_type": "execute_result"
    }
   ],
   "execution_count": 108
  },
  {
   "cell_type": "markdown",
   "metadata": {},
   "source": [
    "## droppinng the rain column"
   ]
  },
  {
   "cell_type": "code",
   "metadata": {
    "ExecuteTime": {
     "end_time": "2024-11-25T12:15:41.266601Z",
     "start_time": "2024-11-25T12:15:41.251645Z"
    }
   },
   "source": [
    "New_scaled = dataset_scaled.drop(columns= 'Rain_Numeric')"
   ],
   "outputs": [],
   "execution_count": 109
  },
  {
   "cell_type": "code",
   "metadata": {
    "ExecuteTime": {
     "end_time": "2024-11-25T12:15:41.423562Z",
     "start_time": "2024-11-25T12:15:41.407606Z"
    }
   },
   "source": [
    "New_scaled.head()"
   ],
   "outputs": [
    {
     "data": {
      "text/plain": [
       "   Temperature  Humidity  Cloud_Cover  Pressure\n",
       "0     0.548885  0.851343     0.504954  0.748370\n",
       "1     0.715305  0.235520     0.049759  0.180070\n",
       "2     0.602850  0.758193     0.148433  0.388977\n",
       "3     0.544954  0.633821     0.672518  0.037409\n",
       "4     0.423693  0.955157     0.476696  0.011586"
      ],
      "text/html": [
       "<div>\n",
       "<style scoped>\n",
       "    .dataframe tbody tr th:only-of-type {\n",
       "        vertical-align: middle;\n",
       "    }\n",
       "\n",
       "    .dataframe tbody tr th {\n",
       "        vertical-align: top;\n",
       "    }\n",
       "\n",
       "    .dataframe thead th {\n",
       "        text-align: right;\n",
       "    }\n",
       "</style>\n",
       "<table border=\"1\" class=\"dataframe\">\n",
       "  <thead>\n",
       "    <tr style=\"text-align: right;\">\n",
       "      <th></th>\n",
       "      <th>Temperature</th>\n",
       "      <th>Humidity</th>\n",
       "      <th>Cloud_Cover</th>\n",
       "      <th>Pressure</th>\n",
       "    </tr>\n",
       "  </thead>\n",
       "  <tbody>\n",
       "    <tr>\n",
       "      <th>0</th>\n",
       "      <td>0.548885</td>\n",
       "      <td>0.851343</td>\n",
       "      <td>0.504954</td>\n",
       "      <td>0.748370</td>\n",
       "    </tr>\n",
       "    <tr>\n",
       "      <th>1</th>\n",
       "      <td>0.715305</td>\n",
       "      <td>0.235520</td>\n",
       "      <td>0.049759</td>\n",
       "      <td>0.180070</td>\n",
       "    </tr>\n",
       "    <tr>\n",
       "      <th>2</th>\n",
       "      <td>0.602850</td>\n",
       "      <td>0.758193</td>\n",
       "      <td>0.148433</td>\n",
       "      <td>0.388977</td>\n",
       "    </tr>\n",
       "    <tr>\n",
       "      <th>3</th>\n",
       "      <td>0.544954</td>\n",
       "      <td>0.633821</td>\n",
       "      <td>0.672518</td>\n",
       "      <td>0.037409</td>\n",
       "    </tr>\n",
       "    <tr>\n",
       "      <th>4</th>\n",
       "      <td>0.423693</td>\n",
       "      <td>0.955157</td>\n",
       "      <td>0.476696</td>\n",
       "      <td>0.011586</td>\n",
       "    </tr>\n",
       "  </tbody>\n",
       "</table>\n",
       "</div>"
      ]
     },
     "execution_count": 110,
     "metadata": {},
     "output_type": "execute_result"
    }
   ],
   "execution_count": 110
  },
  {
   "cell_type": "code",
   "metadata": {
    "ExecuteTime": {
     "end_time": "2024-11-25T12:15:41.533898Z",
     "start_time": "2024-11-25T12:15:41.500009Z"
    }
   },
   "source": [
    "#תקין\n",
    "New_scaled.describe()"
   ],
   "outputs": [
    {
     "data": {
      "text/plain": [
       "       Temperature     Humidity  Cloud_Cover     Pressure\n",
       "count  2500.000000  2500.000000  2500.000000  2500.000000\n",
       "mean      0.503329     0.490654     0.496516     0.490172\n",
       "std       0.293158     0.285099     0.291281     0.288640\n",
       "min       0.000000     0.000000     0.000000     0.000000\n",
       "25%       0.254370     0.247666     0.238891     0.241873\n",
       "50%       0.501517     0.484563     0.494818     0.477605\n",
       "75%       0.759187     0.736593     0.753221     0.739171\n",
       "max       1.000000     1.000000     1.000000     1.000000"
      ],
      "text/html": [
       "<div>\n",
       "<style scoped>\n",
       "    .dataframe tbody tr th:only-of-type {\n",
       "        vertical-align: middle;\n",
       "    }\n",
       "\n",
       "    .dataframe tbody tr th {\n",
       "        vertical-align: top;\n",
       "    }\n",
       "\n",
       "    .dataframe thead th {\n",
       "        text-align: right;\n",
       "    }\n",
       "</style>\n",
       "<table border=\"1\" class=\"dataframe\">\n",
       "  <thead>\n",
       "    <tr style=\"text-align: right;\">\n",
       "      <th></th>\n",
       "      <th>Temperature</th>\n",
       "      <th>Humidity</th>\n",
       "      <th>Cloud_Cover</th>\n",
       "      <th>Pressure</th>\n",
       "    </tr>\n",
       "  </thead>\n",
       "  <tbody>\n",
       "    <tr>\n",
       "      <th>count</th>\n",
       "      <td>2500.000000</td>\n",
       "      <td>2500.000000</td>\n",
       "      <td>2500.000000</td>\n",
       "      <td>2500.000000</td>\n",
       "    </tr>\n",
       "    <tr>\n",
       "      <th>mean</th>\n",
       "      <td>0.503329</td>\n",
       "      <td>0.490654</td>\n",
       "      <td>0.496516</td>\n",
       "      <td>0.490172</td>\n",
       "    </tr>\n",
       "    <tr>\n",
       "      <th>std</th>\n",
       "      <td>0.293158</td>\n",
       "      <td>0.285099</td>\n",
       "      <td>0.291281</td>\n",
       "      <td>0.288640</td>\n",
       "    </tr>\n",
       "    <tr>\n",
       "      <th>min</th>\n",
       "      <td>0.000000</td>\n",
       "      <td>0.000000</td>\n",
       "      <td>0.000000</td>\n",
       "      <td>0.000000</td>\n",
       "    </tr>\n",
       "    <tr>\n",
       "      <th>25%</th>\n",
       "      <td>0.254370</td>\n",
       "      <td>0.247666</td>\n",
       "      <td>0.238891</td>\n",
       "      <td>0.241873</td>\n",
       "    </tr>\n",
       "    <tr>\n",
       "      <th>50%</th>\n",
       "      <td>0.501517</td>\n",
       "      <td>0.484563</td>\n",
       "      <td>0.494818</td>\n",
       "      <td>0.477605</td>\n",
       "    </tr>\n",
       "    <tr>\n",
       "      <th>75%</th>\n",
       "      <td>0.759187</td>\n",
       "      <td>0.736593</td>\n",
       "      <td>0.753221</td>\n",
       "      <td>0.739171</td>\n",
       "    </tr>\n",
       "    <tr>\n",
       "      <th>max</th>\n",
       "      <td>1.000000</td>\n",
       "      <td>1.000000</td>\n",
       "      <td>1.000000</td>\n",
       "      <td>1.000000</td>\n",
       "    </tr>\n",
       "  </tbody>\n",
       "</table>\n",
       "</div>"
      ]
     },
     "execution_count": 111,
     "metadata": {},
     "output_type": "execute_result"
    }
   ],
   "execution_count": 111
  },
  {
   "cell_type": "code",
   "metadata": {
    "ExecuteTime": {
     "end_time": "2024-11-25T12:15:41.906591Z",
     "start_time": "2024-11-25T12:15:41.655855Z"
    }
   },
   "source": [
    "New_scaled.boxplot()"
   ],
   "outputs": [
    {
     "data": {
      "text/plain": [
       "<matplotlib.axes._subplots.AxesSubplot at 0x179681cf808>"
      ]
     },
     "execution_count": 112,
     "metadata": {},
     "output_type": "execute_result"
    },
    {
     "data": {
      "text/plain": [
       "<Figure size 432x288 with 1 Axes>"
      ],
      "image/png": "[encoded data removed]"
     },
     "metadata": {},
     "output_type": "display_data"
    }
   ],
   "execution_count": 112
  },
  {
   "cell_type": "markdown",
   "metadata": {},
   "source": [
    "## splitting the data for training purposes "
   ]
  },
  {
   "cell_type": "code",
   "metadata": {
    "ExecuteTime": {
     "end_time": "2024-11-25T12:15:41.938001Z",
     "start_time": "2024-11-25T12:15:41.908747Z"
    }
   },
   "source": [
    "x_train, x_test, y_train, y_test = train_test_split(New_scaled, Rain_numeric_test, test_size=0.2, random_state=42)\n",
    "print(x_train)"
   ],
   "outputs": [
    {
     "name": "stdout",
     "output_type": "stream",
     "text": [
      "      Temperature  Humidity  Cloud_Cover  Pressure\n",
      "2055     0.000000  0.689312     0.298772  0.766420\n",
      "1961     0.964392  0.040566     0.941527  0.685669\n",
      "1864     0.209585  0.743031     0.207024  0.946385\n",
      "2326     0.286467  0.664045     0.559104  0.880115\n",
      "461      0.379084  0.901632     0.522223  0.697655\n",
      "...           ...       ...          ...       ...\n",
      "1638     0.673115  0.881263     0.787913  0.846198\n",
      "1095     0.759112  0.408803     0.679731  0.654200\n",
      "1130     0.001991  0.008128     0.544449  0.251756\n",
      "1294     0.024702  0.040087     0.791238  0.453619\n",
      "860      0.937292  0.872624     0.556734  0.962570\n",
      "\n",
      "[2000 rows x 4 columns]\n"
     ]
    }
   ],
   "execution_count": 113
  },
  {
   "cell_type": "markdown",
   "metadata": {},
   "source": [
    "## data set for the model"
   ]
  },
  {
   "cell_type": "code",
   "metadata": {
    "ExecuteTime": {
     "end_time": "2024-11-25T12:15:42.030737Z",
     "start_time": "2024-11-25T12:15:42.000148Z"
    }
   },
   "source": [
    "x_train.describe() "
   ],
   "outputs": [
    {
     "data": {
      "text/plain": [
       "       Temperature     Humidity  Cloud_Cover     Pressure\n",
       "count  2000.000000  2000.000000  2000.000000  2000.000000\n",
       "mean      0.504120     0.490747     0.501386     0.486005\n",
       "std       0.294427     0.286229     0.289392     0.288285\n",
       "min       0.000000     0.000000     0.000000     0.000134\n",
       "25%       0.253929     0.246795     0.248990     0.236312\n",
       "50%       0.501517     0.483753     0.502291     0.474539\n",
       "75%       0.766875     0.738352     0.752425     0.734381\n",
       "max       1.000000     1.000000     1.000000     1.000000"
      ],
      "text/html": [
       "<div>\n",
       "<style scoped>\n",
       "    .dataframe tbody tr th:only-of-type {\n",
       "        vertical-align: middle;\n",
       "    }\n",
       "\n",
       "    .dataframe tbody tr th {\n",
       "        vertical-align: top;\n",
       "    }\n",
       "\n",
       "    .dataframe thead th {\n",
       "        text-align: right;\n",
       "    }\n",
       "</style>\n",
       "<table border=\"1\" class=\"dataframe\">\n",
       "  <thead>\n",
       "    <tr style=\"text-align: right;\">\n",
       "      <th></th>\n",
       "      <th>Temperature</th>\n",
       "      <th>Humidity</th>\n",
       "      <th>Cloud_Cover</th>\n",
       "      <th>Pressure</th>\n",
       "    </tr>\n",
       "  </thead>\n",
       "  <tbody>\n",
       "    <tr>\n",
       "      <th>count</th>\n",
       "      <td>2000.000000</td>\n",
       "      <td>2000.000000</td>\n",
       "      <td>2000.000000</td>\n",
       "      <td>2000.000000</td>\n",
       "    </tr>\n",
       "    <tr>\n",
       "      <th>mean</th>\n",
       "      <td>0.504120</td>\n",
       "      <td>0.490747</td>\n",
       "      <td>0.501386</td>\n",
       "      <td>0.486005</td>\n",
       "    </tr>\n",
       "    <tr>\n",
       "      <th>std</th>\n",
       "      <td>0.294427</td>\n",
       "      <td>0.286229</td>\n",
       "      <td>0.289392</td>\n",
       "      <td>0.288285</td>\n",
       "    </tr>\n",
       "    <tr>\n",
       "      <th>min</th>\n",
       "      <td>0.000000</td>\n",
       "      <td>0.000000</td>\n",
       "      <td>0.000000</td>\n",
       "      <td>0.000134</td>\n",
       "    </tr>\n",
       "    <tr>\n",
       "      <th>25%</th>\n",
       "      <td>0.253929</td>\n",
       "      <td>0.246795</td>\n",
       "      <td>0.248990</td>\n",
       "      <td>0.236312</td>\n",
       "    </tr>\n",
       "    <tr>\n",
       "      <th>50%</th>\n",
       "      <td>0.501517</td>\n",
       "      <td>0.483753</td>\n",
       "      <td>0.502291</td>\n",
       "      <td>0.474539</td>\n",
       "    </tr>\n",
       "    <tr>\n",
       "      <th>75%</th>\n",
       "      <td>0.766875</td>\n",
       "      <td>0.738352</td>\n",
       "      <td>0.752425</td>\n",
       "      <td>0.734381</td>\n",
       "    </tr>\n",
       "    <tr>\n",
       "      <th>max</th>\n",
       "      <td>1.000000</td>\n",
       "      <td>1.000000</td>\n",
       "      <td>1.000000</td>\n",
       "      <td>1.000000</td>\n",
       "    </tr>\n",
       "  </tbody>\n",
       "</table>\n",
       "</div>"
      ]
     },
     "execution_count": 114,
     "metadata": {},
     "output_type": "execute_result"
    }
   ],
   "execution_count": 114
  },
  {
   "cell_type": "code",
   "metadata": {
    "ExecuteTime": {
     "end_time": "2024-11-25T12:15:42.202821Z",
     "start_time": "2024-11-25T12:15:42.158554Z"
    }
   },
   "source": [
    "x_test.describe() #rain numeric only the rain column"
   ],
   "outputs": [
    {
     "data": {
      "text/plain": [
       "       Temperature    Humidity  Cloud_Cover    Pressure\n",
       "count   500.000000  500.000000   500.000000  500.000000\n",
       "mean      0.500164    0.490280     0.477037    0.506837\n",
       "std       0.288293    0.280816     0.298219    0.289746\n",
       "min       0.000591    0.001889     0.000103    0.000000\n",
       "25%       0.259043    0.249652     0.202829    0.262552\n",
       "50%       0.500000    0.490067     0.474223    0.489083\n",
       "75%       0.730143    0.733654     0.753889    0.764301\n",
       "max       0.999038    0.995768     0.996742    0.998314"
      ],
      "text/html": [
       "<div>\n",
       "<style scoped>\n",
       "    .dataframe tbody tr th:only-of-type {\n",
       "        vertical-align: middle;\n",
       "    }\n",
       "\n",
       "    .dataframe tbody tr th {\n",
       "        vertical-align: top;\n",
       "    }\n",
       "\n",
       "    .dataframe thead th {\n",
       "        text-align: right;\n",
       "    }\n",
       "</style>\n",
       "<table border=\"1\" class=\"dataframe\">\n",
       "  <thead>\n",
       "    <tr style=\"text-align: right;\">\n",
       "      <th></th>\n",
       "      <th>Temperature</th>\n",
       "      <th>Humidity</th>\n",
       "      <th>Cloud_Cover</th>\n",
       "      <th>Pressure</th>\n",
       "    </tr>\n",
       "  </thead>\n",
       "  <tbody>\n",
       "    <tr>\n",
       "      <th>count</th>\n",
       "      <td>500.000000</td>\n",
       "      <td>500.000000</td>\n",
       "      <td>500.000000</td>\n",
       "      <td>500.000000</td>\n",
       "    </tr>\n",
       "    <tr>\n",
       "      <th>mean</th>\n",
       "      <td>0.500164</td>\n",
       "      <td>0.490280</td>\n",
       "      <td>0.477037</td>\n",
       "      <td>0.506837</td>\n",
       "    </tr>\n",
       "    <tr>\n",
       "      <th>std</th>\n",
       "      <td>0.288293</td>\n",
       "      <td>0.280816</td>\n",
       "      <td>0.298219</td>\n",
       "      <td>0.289746</td>\n",
       "    </tr>\n",
       "    <tr>\n",
       "      <th>min</th>\n",
       "      <td>0.000591</td>\n",
       "      <td>0.001889</td>\n",
       "      <td>0.000103</td>\n",
       "      <td>0.000000</td>\n",
       "    </tr>\n",
       "    <tr>\n",
       "      <th>25%</th>\n",
       "      <td>0.259043</td>\n",
       "      <td>0.249652</td>\n",
       "      <td>0.202829</td>\n",
       "      <td>0.262552</td>\n",
       "    </tr>\n",
       "    <tr>\n",
       "      <th>50%</th>\n",
       "      <td>0.500000</td>\n",
       "      <td>0.490067</td>\n",
       "      <td>0.474223</td>\n",
       "      <td>0.489083</td>\n",
       "    </tr>\n",
       "    <tr>\n",
       "      <th>75%</th>\n",
       "      <td>0.730143</td>\n",
       "      <td>0.733654</td>\n",
       "      <td>0.753889</td>\n",
       "      <td>0.764301</td>\n",
       "    </tr>\n",
       "    <tr>\n",
       "      <th>max</th>\n",
       "      <td>0.999038</td>\n",
       "      <td>0.995768</td>\n",
       "      <td>0.996742</td>\n",
       "      <td>0.998314</td>\n",
       "    </tr>\n",
       "  </tbody>\n",
       "</table>\n",
       "</div>"
      ]
     },
     "execution_count": 115,
     "metadata": {},
     "output_type": "execute_result"
    }
   ],
   "execution_count": 115
  },
  {
   "cell_type": "code",
   "metadata": {
    "ExecuteTime": {
     "end_time": "2024-11-25T12:15:42.451646Z",
     "start_time": "2024-11-25T12:15:42.428773Z"
    }
   },
   "source": [
    "print(y_train)"
   ],
   "outputs": [
    {
     "name": "stdout",
     "output_type": "stream",
     "text": [
      "      Rain_Numeric\n",
      "2055           0.0\n",
      "1961           0.0\n",
      "1864           0.0\n",
      "2326           1.0\n",
      "461            1.0\n",
      "...            ...\n",
      "1638           0.0\n",
      "1095           0.0\n",
      "1130           0.0\n",
      "1294           0.0\n",
      "860            0.0\n",
      "\n",
      "[2000 rows x 1 columns]\n"
     ]
    }
   ],
   "execution_count": 116
  },
  {
   "cell_type": "code",
   "metadata": {
    "ExecuteTime": {
     "end_time": "2024-11-25T12:15:42.561405Z",
     "start_time": "2024-11-25T12:15:42.553569Z"
    }
   },
   "source": [
    "x_train.shape,x_test.shape,y_train.shape,y_test.shape"
   ],
   "outputs": [
    {
     "data": {
      "text/plain": [
       "((2000, 4), (500, 4), (2000, 1), (500, 1))"
      ]
     },
     "execution_count": 117,
     "metadata": {},
     "output_type": "execute_result"
    }
   ],
   "execution_count": 117
  },
  {
   "cell_type": "code",
   "metadata": {
    "scrolled": true,
    "ExecuteTime": {
     "end_time": "2024-11-25T12:15:42.669660Z",
     "start_time": "2024-11-25T12:15:42.642443Z"
    }
   },
   "source": [
    "print(x_train)\n",
    "print(x_test)\n",
    "print(y_train)"
   ],
   "outputs": [
    {
     "name": "stdout",
     "output_type": "stream",
     "text": [
      "      Temperature  Humidity  Cloud_Cover  Pressure\n",
      "2055     0.000000  0.689312     0.298772  0.766420\n",
      "1961     0.964392  0.040566     0.941527  0.685669\n",
      "1864     0.209585  0.743031     0.207024  0.946385\n",
      "2326     0.286467  0.664045     0.559104  0.880115\n",
      "461      0.379084  0.901632     0.522223  0.697655\n",
      "...           ...       ...          ...       ...\n",
      "1638     0.673115  0.881263     0.787913  0.846198\n",
      "1095     0.759112  0.408803     0.679731  0.654200\n",
      "1130     0.001991  0.008128     0.544449  0.251756\n",
      "1294     0.024702  0.040087     0.791238  0.453619\n",
      "860      0.937292  0.872624     0.556734  0.962570\n",
      "\n",
      "[2000 rows x 4 columns]\n",
      "      Temperature  Humidity  Cloud_Cover  Pressure\n",
      "1447     0.709165  0.038555     0.223765  0.407123\n",
      "1114     0.441417  0.241998     0.560102  0.863320\n",
      "1064     0.511284  0.575297     0.500666  0.607025\n",
      "2287     0.901728  0.984584     0.971320  0.772202\n",
      "1537     0.906661  0.234801     0.423989  0.012062\n",
      "...           ...       ...          ...       ...\n",
      "2375     0.371960  0.786458     0.037978  0.081842\n",
      "1609     0.827459  0.495496     0.069741  0.272065\n",
      "596      0.362211  0.789027     0.941742  0.967566\n",
      "84       0.566678  0.534141     0.826091  0.922150\n",
      "2213     0.528148  0.557055     0.513450  0.943432\n",
      "\n",
      "[500 rows x 4 columns]\n",
      "      Rain_Numeric\n",
      "2055           0.0\n",
      "1961           0.0\n",
      "1864           0.0\n",
      "2326           1.0\n",
      "461            1.0\n",
      "...            ...\n",
      "1638           0.0\n",
      "1095           0.0\n",
      "1130           0.0\n",
      "1294           0.0\n",
      "860            0.0\n",
      "\n",
      "[2000 rows x 1 columns]\n"
     ]
    }
   ],
   "execution_count": 118
  },
  {
   "cell_type": "markdown",
   "metadata": {},
   "source": [
    "## Ensure y_train is in the correct format (1D array)"
   ]
  },
  {
   "cell_type": "code",
   "metadata": {
    "ExecuteTime": {
     "end_time": "2024-11-25T12:15:43.433997Z",
     "start_time": "2024-11-25T12:15:42.856384Z"
    }
   },
   "source": [
    "y_train = y_train.values.ravel()\n",
    "model = RandomForestClassifier(random_state=42)\n",
    "model.fit(x_train, y_train)"
   ],
   "outputs": [
    {
     "data": {
      "text/plain": [
       "RandomForestClassifier(bootstrap=True, ccp_alpha=0.0, class_weight=None,\n",
       "                       criterion='gini', max_depth=None, max_features='auto',\n",
       "                       max_leaf_nodes=None, max_samples=None,\n",
       "                       min_impurity_decrease=0.0, min_impurity_split=None,\n",
       "                       min_samples_leaf=1, min_samples_split=2,\n",
       "                       min_weight_fraction_leaf=0.0, n_estimators=100,\n",
       "                       n_jobs=None, oob_score=False, random_state=42, verbose=0,\n",
       "                       warm_start=False)"
      ]
     },
     "execution_count": 119,
     "metadata": {},
     "output_type": "execute_result"
    }
   ],
   "execution_count": 119
  },
  {
   "metadata": {
    "ExecuteTime": {
     "end_time": "2024-11-25T12:15:45.642150Z",
     "start_time": "2024-11-25T12:15:43.441971Z"
    }
   },
   "cell_type": "code",
   "source": [
    "import seaborn as sns\n",
    "import matplotlib.pyplot as plt\n",
    "\n",
    "# Plot histograms for numerical features\n",
    "dataset[['Temperature', 'Humidity', 'Cloud_Cover', 'Pressure']].hist(bins=20, figsize=(15, 10))\n",
    "plt.suptitle('Feature Distributions')\n",
    "plt.show()"
   ],
   "outputs": [
    {
     "data": {
      "text/plain": [
       "<Figure size 1080x720 with 4 Axes>"
      ],
      "image/png": "[encoded data removed]"
     },
     "metadata": {},
     "output_type": "display_data"
    }
   ],
   "execution_count": 120
  },
  {
   "metadata": {
    "ExecuteTime": {
     "end_time": "2024-11-25T12:15:46.201908Z",
     "start_time": "2024-11-25T12:15:45.645657Z"
    }
   },
   "cell_type": "code",
   "source": [
    "import matplotlib.pyplot as plt\n",
    "\n",
    "# Select the two features for the scatter plot\n",
    "x_feature = 'Temperature'\n",
    "y_feature = 'Humidity'\n",
    "\n",
    "# Create the scatter plot with color based on the 'Rain' column\n",
    "plt.figure(figsize=(8, 6))\n",
    "plt.scatter(dataset[x_feature], dataset[y_feature], c=dataset['Rain_Numeric'].apply(lambda x: 1 if x == 1 else 0), cmap='coolwarm')\n",
    "\n",
    "# Label the axes and add a title\n",
    "plt.xlabel(x_feature)\n",
    "plt.ylabel(y_feature)\n",
    "plt.title(f'Scatter Plot: {x_feature} vs {y_feature} (Rain vs No Rain)')\n",
    "\n",
    "# Add a color bar to indicate what the colors represent\n",
    "plt.colorbar(label='Rain (1) / No Rain (0)')\n",
    "\n",
    "plt.show()\n"
   ],
   "outputs": [
    {
     "data": {
      "text/plain": [
       "<Figure size 576x432 with 2 Axes>"
      ],
      "image/png": "[encoded data removed]"
     },
     "metadata": {},
     "output_type": "display_data"
    }
   ],
   "execution_count": 121
  },
  {
   "cell_type": "markdown",
   "metadata": {},
   "source": [
    "## Training a KNN model for the same exact data"
   ]
  },
  {
   "cell_type": "code",
   "metadata": {
    "ExecuteTime": {
     "end_time": "2024-11-25T12:15:46.217288Z",
     "start_time": "2024-11-25T12:15:46.204569Z"
    }
   },
   "source": [
    "from sklearn.neighbors import KNeighborsClassifier\n",
    "knn = KNeighborsClassifier(n_neighbors=8)  # Start with 5 neighbors\n",
    "knn.fit(x_train, y_train)"
   ],
   "outputs": [
    {
     "data": {
      "text/plain": [
       "KNeighborsClassifier(algorithm='auto', leaf_size=30, metric='minkowski',\n",
       "                     metric_params=None, n_jobs=None, n_neighbors=8, p=2,\n",
       "                     weights='uniform')"
      ]
     },
     "execution_count": 122,
     "metadata": {},
     "output_type": "execute_result"
    }
   ],
   "execution_count": 122
  },
  {
   "cell_type": "markdown",
   "metadata": {},
   "source": [
    "## Testing the model "
   ]
  },
  {
   "cell_type": "code",
   "metadata": {
    "ExecuteTime": {
     "end_time": "2024-11-25T12:15:46.265245Z",
     "start_time": "2024-11-25T12:15:46.219847Z"
    }
   },
   "source": [
    "y_pred = knn.predict(x_test)"
   ],
   "outputs": [],
   "execution_count": 123
  },
  {
   "cell_type": "markdown",
   "metadata": {},
   "source": [
    "## Evaluating the KNN model, confusion matrix, f1 score, precision "
   ]
  },
  {
   "cell_type": "code",
   "metadata": {
    "ExecuteTime": {
     "end_time": "2024-11-25T12:15:46.296141Z",
     "start_time": "2024-11-25T12:15:46.267238Z"
    }
   },
   "source": [
    "print(\"Accuracy:\", accuracy_score(y_test, y_pred))\n",
    "print(\"Confusion Matrix:\\n\", confusion_matrix(y_test, y_pred))\n",
    "print(\"Classification Report:\\n\", classification_report(y_test, y_pred))"
   ],
   "outputs": [
    {
     "name": "stdout",
     "output_type": "stream",
     "text": [
      "Accuracy: 0.984\n",
      "Confusion Matrix:\n",
      " [[440   3]\n",
      " [  5  52]]\n",
      "Classification Report:\n",
      "               precision    recall  f1-score   support\n",
      "\n",
      "         0.0       0.99      0.99      0.99       443\n",
      "         1.0       0.95      0.91      0.93        57\n",
      "\n",
      "    accuracy                           0.98       500\n",
      "   macro avg       0.97      0.95      0.96       500\n",
      "weighted avg       0.98      0.98      0.98       500\n",
      "\n"
     ]
    }
   ],
   "execution_count": 124
  },
  {
   "metadata": {
    "ExecuteTime": {
     "end_time": "2024-11-25T12:15:49.597417Z",
     "start_time": "2024-11-25T12:15:46.298136Z"
    }
   },
   "cell_type": "code",
   "source": [
    "k_values = [i for i in range (1,31)]\n",
    "scores = []\n",
    "#scaler = StandardScaler()\n",
    "#X = scaler.fit_transform(X)\n",
    "\n",
    "for k in k_values:\n",
    "    knn = KNeighborsClassifier(n_neighbors=k)\n",
    "    score = cross_val_score(knn, x_train, y_train, cv=5)\n",
    "    scores.append(np.mean(score))"
   ],
   "outputs": [],
   "execution_count": 125
  },
  {
   "metadata": {
    "ExecuteTime": {
     "end_time": "2024-11-25T12:15:49.923595Z",
     "start_time": "2024-11-25T12:15:49.601367Z"
    }
   },
   "cell_type": "code",
   "source": [
    "sns.lineplot(x = k_values, y = scores, marker = 'o')\n",
    "plt.xlabel(\"K Values\")\n",
    "plt.ylabel(\"Accuracy Score\")"
   ],
   "outputs": [
    {
     "data": {
      "text/plain": [
       "Text(0, 0.5, 'Accuracy Score')"
      ]
     },
     "execution_count": 126,
     "metadata": {},
     "output_type": "execute_result"
    },
    {
     "data": {
      "text/plain": [
       "<Figure size 432x288 with 1 Axes>"
      ],
      "image/png": "[encoded data removed]"
     },
     "metadata": {},
     "output_type": "display_data"
    }
   ],
   "execution_count": 126
  },
  {
   "cell_type": "markdown",
   "metadata": {},
   "source": [
    "## Evaluate the random forest classfier model, confusion matrix, F1 score, precision"
   ]
  },
  {
   "cell_type": "code",
   "metadata": {
    "ExecuteTime": {
     "end_time": "2024-11-25T12:15:49.968875Z",
     "start_time": "2024-11-25T12:15:49.925710Z"
    }
   },
   "source": [
    "y_pred = model.predict(x_test)\n",
    "print(\"Confusion Matrix:\\n\", confusion_matrix(y_test, y_pred))\n",
    "print(\"\\nClassification Report:\\n\", classification_report(y_test, y_pred))"
   ],
   "outputs": [
    {
     "name": "stdout",
     "output_type": "stream",
     "text": [
      "Confusion Matrix:\n",
      " [[443   0]\n",
      " [  1  56]]\n",
      "\n",
      "Classification Report:\n",
      "               precision    recall  f1-score   support\n",
      "\n",
      "         0.0       1.00      1.00      1.00       443\n",
      "         1.0       1.00      0.98      0.99        57\n",
      "\n",
      "    accuracy                           1.00       500\n",
      "   macro avg       1.00      0.99      1.00       500\n",
      "weighted avg       1.00      1.00      1.00       500\n",
      "\n"
     ]
    }
   ],
   "execution_count": 127
  },
  {
   "cell_type": "code",
   "metadata": {
    "ExecuteTime": {
     "end_time": "2024-11-25T12:15:49.999352Z",
     "start_time": "2024-11-25T12:15:49.970869Z"
    }
   },
   "source": [
    "print(accuracy_score(y_test.values,model.predict(x_test)))"
   ],
   "outputs": [
    {
     "name": "stdout",
     "output_type": "stream",
     "text": [
      "0.998\n"
     ]
    }
   ],
   "execution_count": 128
  },
  {
   "cell_type": "code",
   "metadata": {
    "ExecuteTime": {
     "end_time": "2024-11-25T12:15:50.029514Z",
     "start_time": "2024-11-25T12:15:50.000535Z"
    }
   },
   "source": [
    "y_pred = model.predict(x_test)\n",
    "print(y_pred)"
   ],
   "outputs": [
    {
     "name": "stdout",
     "output_type": "stream",
     "text": [
      "[0. 0. 0. 0. 0. 0. 0. 0. 0. 0. 0. 1. 0. 0. 0. 0. 0. 0. 0. 0. 0. 0. 0. 0.\n",
      " 0. 0. 0. 0. 0. 1. 0. 0. 1. 0. 1. 0. 0. 0. 0. 0. 1. 0. 0. 0. 0. 0. 0. 0.\n",
      " 1. 0. 0. 0. 0. 0. 0. 0. 1. 1. 0. 0. 0. 0. 0. 0. 0. 0. 0. 0. 0. 0. 0. 0.\n",
      " 0. 0. 1. 0. 0. 0. 0. 1. 0. 1. 0. 0. 0. 0. 0. 0. 0. 0. 1. 0. 0. 0. 0. 0.\n",
      " 0. 1. 0. 0. 0. 0. 0. 0. 0. 0. 0. 0. 0. 0. 0. 0. 0. 0. 0. 0. 0. 0. 1. 0.\n",
      " 0. 0. 0. 0. 0. 0. 0. 0. 0. 0. 0. 0. 1. 0. 0. 0. 0. 1. 1. 0. 0. 0. 0. 1.\n",
      " 0. 1. 0. 0. 0. 0. 0. 0. 0. 0. 0. 0. 0. 0. 0. 0. 0. 0. 0. 1. 0. 0. 0. 0.\n",
      " 0. 0. 0. 0. 0. 0. 0. 0. 0. 0. 0. 0. 0. 1. 0. 0. 0. 0. 0. 0. 0. 0. 0. 0.\n",
      " 0. 0. 0. 0. 0. 0. 0. 0. 1. 0. 0. 0. 0. 0. 0. 0. 0. 0. 0. 1. 0. 0. 0. 0.\n",
      " 0. 0. 0. 1. 0. 0. 0. 1. 0. 0. 0. 0. 0. 1. 1. 1. 0. 0. 0. 0. 0. 0. 0. 0.\n",
      " 0. 0. 0. 0. 0. 0. 0. 0. 0. 0. 1. 0. 0. 0. 0. 0. 0. 0. 0. 1. 0. 0. 0. 0.\n",
      " 0. 0. 0. 1. 0. 0. 1. 0. 0. 0. 1. 0. 0. 0. 0. 0. 0. 0. 1. 0. 0. 0. 0. 0.\n",
      " 0. 0. 0. 0. 0. 0. 1. 0. 0. 0. 0. 0. 1. 0. 0. 0. 0. 0. 0. 0. 0. 0. 1. 0.\n",
      " 0. 0. 1. 0. 0. 0. 0. 0. 0. 0. 0. 0. 0. 0. 0. 0. 0. 0. 0. 0. 0. 0. 0. 0.\n",
      " 0. 0. 0. 1. 0. 0. 0. 0. 0. 0. 0. 0. 0. 0. 0. 1. 0. 0. 0. 1. 0. 0. 0. 0.\n",
      " 0. 1. 0. 0. 0. 0. 0. 0. 0. 0. 0. 0. 0. 1. 0. 0. 0. 0. 0. 0. 0. 0. 0. 1.\n",
      " 0. 0. 0. 0. 0. 0. 0. 0. 0. 1. 0. 0. 0. 1. 0. 0. 0. 0. 0. 0. 0. 0. 0. 0.\n",
      " 0. 0. 0. 0. 0. 0. 0. 0. 0. 1. 0. 1. 1. 0. 0. 0. 0. 0. 1. 0. 0. 0. 0. 0.\n",
      " 0. 0. 0. 0. 0. 1. 0. 0. 0. 0. 0. 0. 0. 0. 0. 0. 0. 0. 0. 0. 0. 0. 0. 0.\n",
      " 0. 0. 1. 0. 0. 0. 0. 0. 0. 0. 1. 0. 0. 1. 0. 0. 0. 0. 0. 0. 0. 0. 0. 0.\n",
      " 0. 0. 0. 0. 1. 0. 0. 0. 0. 0. 0. 0. 0. 0. 0. 0. 0. 1. 0. 0.]\n"
     ]
    }
   ],
   "execution_count": 129
  },
  {
   "cell_type": "markdown",
   "metadata": {},
   "source": [
    "## saving the model for future use using PICKLE!"
   ]
  },
  {
   "cell_type": "code",
   "metadata": {
    "ExecuteTime": {
     "end_time": "2024-11-25T12:15:50.061031Z",
     "start_time": "2024-11-25T12:15:50.032589Z"
    }
   },
   "source": [
    "import pickle\n",
    "with open('trained_model.pkl', 'wb') as file:\n",
    "    pickle.dump(model, file)\n",
    "print(\"RFC saved successfully!\")\n",
    "with open('trained_model_knn.pkl', 'wb') as file:\n",
    "    pickle.dump(knn, file)\n",
    "print(\"KNN saved successfully!\")"
   ],
   "outputs": [
    {
     "name": "stdout",
     "output_type": "stream",
     "text": [
      "RFC saved successfully!\n",
      "KNN saved successfully!\n"
     ]
    }
   ],
   "execution_count": 130
  }
 ],
 "metadata": {
  "kernelspec": {
   "display_name": "Python 3",
   "language": "python",
   "name": "python3"
  },
  "language_info": {
   "codemirror_mode": {
    "name": "ipython",
    "version": 3
   },
   "file_extension": ".py",
   "mimetype": "text/x-python",
   "name": "python",
   "nbconvert_exporter": "python",
   "pygments_lexer": "ipython3",
   "version": "3.7.6"
  }
 },
 "nbformat": 4,
 "nbformat_minor": 4
}
